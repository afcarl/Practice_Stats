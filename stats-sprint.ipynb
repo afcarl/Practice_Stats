{
 "metadata": {
  "name": ""
 },
 "nbformat": 3,
 "nbformat_minor": 0,
 "worksheets": [
  {
   "cells": [
    {
     "cell_type": "code",
     "collapsed": false,
     "input": [
      "%load distributions/distributions.py"
     ],
     "language": "python",
     "metadata": {},
     "outputs": [],
     "prompt_number": 12
    },
    {
     "cell_type": "code",
     "collapsed": false,
     "input": [
      "%pylab inline --no-import-all"
     ],
     "language": "python",
     "metadata": {},
     "outputs": [
      {
       "output_type": "stream",
       "stream": "stdout",
       "text": [
        "Populating the interactive namespace from numpy and matplotlib\n"
       ]
      }
     ],
     "prompt_number": 8
    },
    {
     "cell_type": "code",
     "collapsed": false,
     "input": [
      "import numpy as np\n",
      "from pylab import *\n",
      "import matplotlib.pyplot as plt\n",
      "# from scipy import stats as sp\n",
      "import scipy as sp\n",
      "import scipy.stats as st"
     ],
     "language": "python",
     "metadata": {},
     "outputs": [],
     "prompt_number": 40
    },
    {
     "cell_type": "code",
     "collapsed": false,
     "input": [
      "def read_data(filename):\n",
      "    f = open(filename)\n",
      "    important=['age', 'sex', 'resting_blod_pressuremm_hg', 'cholesterol_mg/dl', 'max_heart_rate']\n",
      "    keys = f.readline().strip().split(\",\")\n",
      "    key_to_index = {}\n",
      "    for i in range(len(keys)):\n",
      "        key_to_index[keys[i]] = i\n",
      "    result = []\n",
      "    for line in f:\n",
      "        line = line.strip().split(\",\")\n",
      "        skip = False\n",
      "        for key in important:\n",
      "            if line[key_to_index[key]] == '?':\n",
      "                skip = True\n",
      "        if not skip:\n",
      "            line = map(lambda x: NAN if x == \"?\" else float(x), line)\n",
      "            result.append(line)\n",
      "    f.close()\n",
      "    return key_to_index, np.array(result)\n",
      "\n",
      "\n",
      "def age_distributions():\n",
      "    fig, axes = plt.subplots(nrows=2, ncols=2)\n",
      "    axes[0][0].hist(c_array[:,0], color=\"orange\")\n",
      "    axes[0][0].set_title('Cleveland')\n",
      "    axes[1][0].hist(h_array[:,0], color=\"green\")\n",
      "    axes[1][0].set_title('Hungary')\n",
      "    axes[0][1].hist(l_array[:,0], color=\"blue\")\n",
      "    axes[0][1].set_title('Long Beach')\n",
      "    axes[1][1].hist(s_array[:,0], color=\"purple\")\n",
      "    axes[1][1].set_title('Switzerland')\n",
      "    for row in axes:\n",
      "        for ax in row:\n",
      "            ax.set_ylabel('age')\n",
      "            ax.set_xlabel('count')\n",
      "    plt.subplots_adjust(wspace = 0.3, hspace = 0.5)\n",
      "    plt.show()\n",
      "\n",
      "\n",
      "\n",
      "def boxplots():\n",
      "    hr = c_keys['max_heart_rate']\n",
      "    chl = c_keys['cholesterol_mg/dl']\n",
      "\n",
      "    male_hr = np.append(c_array[c_array[:,1] == 0, hr], h_array[h_array[:,1] == 0, hr])\n",
      "    male_hr = np.append(male_hr, l_array[l_array[:,1] == 0, hr])\n",
      "\n",
      "    female_hr = np.append(c_array[c_array[:,1] == 1, hr], h_array[h_array[:,1] == 1, hr])\n",
      "    female_hr = np.append(female_hr, l_array[l_array[:,1] == 1, hr])\n",
      "    \n",
      "    male_chl = np.append(c_array[c_array[:,1] == 0, chl], h_array[h_array[:,1] == 0, chl])\n",
      "    male_chl = np.append(male_chl, l_array[l_array[:,1] == 0, chl])\n",
      "\n",
      "    female_chl = np.append(c_array[c_array[:,1] == 1, chl], h_array[h_array[:,1] == 1, chl])\n",
      "    female_chl = np.append(female_chl, l_array[l_array[:,1] == 1, chl])\n",
      "\n",
      "    fig, axes = plt.subplots(ncols=2)\n",
      "    axes[0].boxplot((male_hr, female_hr))\n",
      "    axes[0].set_title('Heart Rate')\n",
      "    axes[0].set_xticklabels(['male', 'female'])\n",
      "\n",
      "    axes[1].boxplot((male_chl, female_chl))\n",
      "    axes[1].set_title('Cholesterol')\n",
      "    axes[1].set_xticklabels(['male', 'female'])\n",
      "\n",
      "    plt.show()\n",
      "\n",
      "\n",
      "def blood_pressure():\n",
      "    bp = c_keys['resting_blod_pressuremm_hg']\n",
      "\n",
      "    fig, axes = plt.subplots(nrows=4, figsize=(6, 12))\n",
      "\n",
      "    axes[0].hist(c_array[c_array[:,1] == 1, bp], color=\"red\")\n",
      "    axes[0].hist(c_array[c_array[:,1] == 0, bp], color=\"blue\")\n",
      "    axes[0].set_title('Cleveland')\n",
      "\n",
      "    axes[1].hist(h_array[h_array[:,1] == 1, bp], color=\"red\")\n",
      "    axes[1].hist(h_array[h_array[:,1] == 0, bp], color=\"blue\")\n",
      "    axes[1].set_title('Hungary')\n",
      "\n",
      "    axes[2].hist(l_array[l_array[:,1] == 1, bp], color=\"red\")\n",
      "    axes[2].hist(l_array[l_array[:,1] == 0, bp], color=\"blue\")\n",
      "    axes[2].set_title('Long Beach')\n",
      "\n",
      "    axes[3].hist(s_array[s_array[:,1] == 1, bp], color=\"red\")\n",
      "    axes[3].hist(s_array[s_array[:,1] == 0, bp], color=\"blue\")\n",
      "    axes[3].set_title('Switzerland')\n",
      "\n",
      "    for ax in axes:\n",
      "        ax.set_xlabel('blood pressure')\n",
      "        ax.legend(['male', 'female'], loc=\"upper left\")\n",
      "\n",
      "    plt.subplots_adjust(hspace = 1)\n",
      "    #plt.show()\n",
      "\n",
      "def fit_the_line():\n",
      "    bp = c_keys['resting_blod_pressuremm_hg']\n",
      "    c_blood_male = c_array[c_array[:,1] == 1, bp]\n",
      "    c_blood_female = c_array[c_array[:,1] == 0, bp]\n",
      "\n",
      "    c_blood_male_mean = mean(c_blood_male)\n",
      "    c_blood_female_mean = mean(c_blood_female)\n",
      "    c_blood_male_std = std(c_blood_male)     \n",
      "    c_blood_female_std = std(c_blood_female)\n",
      "    fig, axes = plt.subplots(nrows=4, figsize=(6, 12))\n",
      "\n",
      "    count, bins, ignored = axes[0].hist(c_blood_male, 30, color=\"red\", normed=True) # plotting the histo, and making three vars\n",
      "    c_sim_dist_male = st.norm.pdf(bins, loc=c_blood_male_mean, scale=c_blood_male_std)  # normalizing the creating the line\n",
      "    \n",
      "    count, bins, ignored = axes[0].hist(c_blood_female, 30, color=\"blue\", normed=True) # plotting the histo, and making three vars\n",
      "    c_sim_dist_female = st.norm.pdf(bins, loc=c_blood_female_mean, scale=c_blood_female_std)  # normalizing the creating the line\n",
      "    \n",
      "    axes[0].plot(bins,c_sim_dist_male, color=\"pink\") # plotting the normalized curve with bins as x and c_bp_sm as y. \n",
      "    axes[0].plot(bins,c_sim_dist_female, color=\"cyan\") # plotting the normalized curve with bins as x and c_bp_sm as y. \n",
      "    plt.show()\n",
      "\n",
      "\n",
      "if __name__ == \"__main__\":\n",
      "    c_keys, c_array = read_data(\"./distributions/cleveland_heart.csv\")\n",
      "    h_keys, h_array = read_data(\"./distributions/hungarian_heart.csv\")\n",
      "    l_keys, l_array = read_data(\"./distributions/long_beach.csv\")\n",
      "    s_keys, s_array = read_data(\"./distributions/switzerland_heart.csv\")\n",
      "    #age_distributions()\n",
      "    #boxplots()\n",
      "    #blood_pressure()\n",
      "    #fit_the_line()\n"
     ],
     "language": "python",
     "metadata": {},
     "outputs": [],
     "prompt_number": 10
    },
    {
     "cell_type": "code",
     "collapsed": false,
     "input": [
      "count, bin, ignore= hist(c_array[:,3], 30, color=\"red\", normed=True)"
     ],
     "language": "python",
     "metadata": {},
     "outputs": [
      {
       "metadata": {},
       "output_type": "display_data",
       "png": "[encoded data removed]",
       "text": [
        "<matplotlib.figure.Figure at 0x106e62a10>"
       ]
      }
     ],
     "prompt_number": 11
    },
    {
     "cell_type": "code",
     "collapsed": false,
     "input": [
      "# mu, sigma = 0, 0.16\n",
      "# s = np.random.normal(mu,sigma,1000)\n",
      "# hist(s,30,color=\"grey\")"
     ],
     "language": "python",
     "metadata": {},
     "outputs": [],
     "prompt_number": 12
    },
    {
     "cell_type": "code",
     "collapsed": false,
     "input": [
      "x = c_array[:,3]\n",
      "norm_cdf = st.norm.cdf(bin, mean(x), std(x))\n",
      "data_cdf = cumsum(count) * (bin[1] - bin[0])\n",
      "print data_cdf\n",
      "print norm_cdf"
     ],
     "language": "python",
     "metadata": {},
     "outputs": [
      {
       "output_type": "stream",
       "stream": "stdout",
       "text": [
        "[ 0.00660066  0.02310231  0.0330033   0.0660066   0.12871287  0.17161716\n",
        "  0.1980198   0.33333333  0.39273927  0.44554455  0.59075908  0.6369637\n",
        "  0.67656766  0.79207921  0.82178218  0.88448845  0.90429043  0.91089109\n",
        "  0.95049505  0.95379538  0.95709571  0.97029703  0.97689769  0.98349835\n",
        "  0.99339934  0.99339934  0.99339934  0.99669967  0.99669967  1.        ]\n",
        "[ 0.01597493  0.02595105  0.04067971  0.06156599  0.09001427  0.12723178\n",
        "  0.17399837  0.23044276  0.29587668  0.36873547  0.44665709  0.52670149\n",
        "  0.60567856  0.68052447  0.74865348  0.80821874  0.85823958  0.89858607\n",
        "  0.9298438   0.9531036   0.96972819  0.98114101  0.98866644  0.99343257\n",
        "  0.99633189  0.99802594  0.99897664  0.99948911  0.99975444  0.99988639\n",
        "  0.99994941]\n"
       ]
      }
     ],
     "prompt_number": 13
    },
    {
     "cell_type": "code",
     "collapsed": false,
     "input": [
      "st.ks_2samp(data_cdf, norm_cdf)"
     ],
     "language": "python",
     "metadata": {},
     "outputs": [
      {
       "metadata": {},
       "output_type": "pyout",
       "prompt_number": 14,
       "text": [
        "(0.16021505376344092, 0.79307297371148888)"
       ]
      }
     ],
     "prompt_number": 14
    },
    {
     "cell_type": "code",
     "collapsed": false,
     "input": [
      "def rank_ks():\n",
      "    cleveland = [c_array[:,2], c_array[:,3], c_array[:,5]]\n",
      "    # condense to one measure to evaluate\n",
      "    labels= ['chest pain', 'resting blood pressure', 'blood sugar']\n",
      "    results = {}\n",
      "    \n",
      "    # create a list of means and std dev to loop through and generate norms\n",
      "    # then feed those into KS for multiplve p-vals\n",
      "    for idx, data in enumerate(cleveland):\n",
      "        count, bin, ignore = hist(data, 30, color=\"red\", normed=True)\n",
      "        \n",
      "        norm_cdf = st.norm.cdf(bin, mean(data), std(data))\n",
      "        #norm_cdf = st.norm.cdf(bin, range(1,5), std(data))\n",
      "        data_cdf = cumsum(count) * (bin[1] - bin[0])\n",
      "        \n",
      "        # low ks_stat or high p_val cannot reject hypothesis the distribution of hte two samples are the same\n",
      "        ks_stat, p_val = st.ks_2samp(data_cdf, norm_cdf) \n",
      "        \n",
      "        # Create a numpy array that stors p_val at the corresponding mean and standard deviation\n",
      "        results[labels[idx]] = (ks_stat, p_val)\n",
      "#    print sorted(results.iteritems(), key=lambda x: x[1])\n",
      "    pvals, dvals= [], []\n",
      "    for k,v in results.iteritems():\n",
      "        pvals.append(v[1])\n",
      "        dvals.append(v[0])\n",
      "    \n",
      "    #plt.imshow([pvals, dvals])\n",
      "    plt.show()\n",
      "        \n",
      "rank_ks()"
     ],
     "language": "python",
     "metadata": {},
     "outputs": [
      {
       "output_type": "stream",
       "stream": "stdout",
       "text": [
        "[ 0.07590759  0.07590759  0.07590759  0.07590759  0.07590759  0.07590759\n",
        "  0.07590759  0.07590759  0.07590759  0.07590759  0.24092409  0.24092409\n",
        "  0.24092409  0.24092409  0.24092409  0.24092409  0.24092409  0.24092409\n",
        "  0.24092409  0.24092409  0.52475248  0.52475248  0.52475248  0.52475248\n",
        "  0.52475248  0.52475248  0.52475248  0.52475248  0.52475248  1.        ]\n",
        "[ 0.00660066  0.02310231  0.0330033   0.0660066   0.12871287  0.17161716\n",
        "  0.1980198   0.33333333  0.39273927  0.44554455  0.59075908  0.6369637\n",
        "  0.67656766  0.79207921  0.82178218  0.88448845  0.90429043  0.91089109\n",
        "  0.95049505  0.95379538  0.95709571  0.97029703  0.97689769  0.98349835\n",
        "  0.99339934  0.99339934  0.99339934  0.99669967  0.99669967  1.        ]"
       ]
      },
      {
       "output_type": "stream",
       "stream": "stdout",
       "text": [
        "\n",
        "[ 0.85148515  0.85148515  0.85148515  0.85148515  0.85148515  0.85148515\n",
        "  0.85148515  0.85148515  0.85148515  0.85148515  0.85148515  0.85148515\n",
        "  0.85148515  0.85148515  0.85148515  0.85148515  0.85148515  0.85148515\n",
        "  0.85148515  0.85148515  0.85148515  0.85148515  0.85148515  0.85148515\n",
        "  0.85148515  0.85148515  0.85148515  0.85148515  0.85148515  1.        ]\n"
       ]
      },
      {
       "metadata": {},
       "output_type": "display_data",
       "png": "[encoded data removed]",
       "text": [
        "<matplotlib.figure.Figure at 0x106fc1290>"
       ]
      }
     ],
     "prompt_number": 23
    },
    {
     "cell_type": "code",
     "collapsed": false,
     "input": [
      "A = rand(5,5)\n",
      "print(norm_cdf)\n",
      "imshow(norm_cdf)\n",
      "show()"
     ],
     "language": "python",
     "metadata": {},
     "outputs": [
      {
       "ename": "TypeError",
       "evalue": "Invalid dimensions for image data",
       "output_type": "pyerr",
       "traceback": [
        "\u001b[0;31m---------------------------------------------------------------------------\u001b[0m\n\u001b[0;31mTypeError\u001b[0m                                 Traceback (most recent call last)",
        "\u001b[0;32m<ipython-input-24-d86ea7b682e4>\u001b[0m in \u001b[0;36m<module>\u001b[0;34m()\u001b[0m\n\u001b[1;32m      1\u001b[0m \u001b[0mA\u001b[0m \u001b[0;34m=\u001b[0m \u001b[0mrand\u001b[0m\u001b[0;34m(\u001b[0m\u001b[0;36m5\u001b[0m\u001b[0;34m,\u001b[0m\u001b[0;36m5\u001b[0m\u001b[0;34m)\u001b[0m\u001b[0;34m\u001b[0m\u001b[0m\n\u001b[1;32m      2\u001b[0m \u001b[0;32mprint\u001b[0m\u001b[0;34m(\u001b[0m\u001b[0mnorm_cdf\u001b[0m\u001b[0;34m)\u001b[0m\u001b[0;34m\u001b[0m\u001b[0m\n\u001b[0;32m----> 3\u001b[0;31m \u001b[0mimshow\u001b[0m\u001b[0;34m(\u001b[0m\u001b[0mnorm_cdf\u001b[0m\u001b[0;34m)\u001b[0m\u001b[0;34m\u001b[0m\u001b[0m\n\u001b[0m\u001b[1;32m      4\u001b[0m \u001b[0mshow\u001b[0m\u001b[0;34m(\u001b[0m\u001b[0;34m)\u001b[0m\u001b[0;34m\u001b[0m\u001b[0m\n",
        "\u001b[0;32m/Users/zipfianstudent/anaconda/lib/python2.7/site-packages/matplotlib/pyplot.pyc\u001b[0m in \u001b[0;36mimshow\u001b[0;34m(X, cmap, norm, aspect, interpolation, alpha, vmin, vmax, origin, extent, shape, filternorm, filterrad, imlim, resample, url, hold, **kwargs)\u001b[0m\n\u001b[1;32m   2890\u001b[0m                         \u001b[0mvmax\u001b[0m\u001b[0;34m=\u001b[0m\u001b[0mvmax\u001b[0m\u001b[0;34m,\u001b[0m \u001b[0morigin\u001b[0m\u001b[0;34m=\u001b[0m\u001b[0morigin\u001b[0m\u001b[0;34m,\u001b[0m \u001b[0mextent\u001b[0m\u001b[0;34m=\u001b[0m\u001b[0mextent\u001b[0m\u001b[0;34m,\u001b[0m \u001b[0mshape\u001b[0m\u001b[0;34m=\u001b[0m\u001b[0mshape\u001b[0m\u001b[0;34m,\u001b[0m\u001b[0;34m\u001b[0m\u001b[0m\n\u001b[1;32m   2891\u001b[0m                         \u001b[0mfilternorm\u001b[0m\u001b[0;34m=\u001b[0m\u001b[0mfilternorm\u001b[0m\u001b[0;34m,\u001b[0m \u001b[0mfilterrad\u001b[0m\u001b[0;34m=\u001b[0m\u001b[0mfilterrad\u001b[0m\u001b[0;34m,\u001b[0m\u001b[0;34m\u001b[0m\u001b[0m\n\u001b[0;32m-> 2892\u001b[0;31m                         imlim=imlim, resample=resample, url=url, **kwargs)\n\u001b[0m\u001b[1;32m   2893\u001b[0m         \u001b[0mdraw_if_interactive\u001b[0m\u001b[0;34m(\u001b[0m\u001b[0;34m)\u001b[0m\u001b[0;34m\u001b[0m\u001b[0m\n\u001b[1;32m   2894\u001b[0m     \u001b[0;32mfinally\u001b[0m\u001b[0;34m:\u001b[0m\u001b[0;34m\u001b[0m\u001b[0m\n",
        "\u001b[0;32m/Users/zipfianstudent/anaconda/lib/python2.7/site-packages/matplotlib/axes.pyc\u001b[0m in \u001b[0;36mimshow\u001b[0;34m(self, X, cmap, norm, aspect, interpolation, alpha, vmin, vmax, origin, extent, shape, filternorm, filterrad, imlim, resample, url, **kwargs)\u001b[0m\n\u001b[1;32m   7298\u001b[0m                        filterrad=filterrad, resample=resample, **kwargs)\n\u001b[1;32m   7299\u001b[0m \u001b[0;34m\u001b[0m\u001b[0m\n\u001b[0;32m-> 7300\u001b[0;31m         \u001b[0mim\u001b[0m\u001b[0;34m.\u001b[0m\u001b[0mset_data\u001b[0m\u001b[0;34m(\u001b[0m\u001b[0mX\u001b[0m\u001b[0;34m)\u001b[0m\u001b[0;34m\u001b[0m\u001b[0m\n\u001b[0m\u001b[1;32m   7301\u001b[0m         \u001b[0mim\u001b[0m\u001b[0;34m.\u001b[0m\u001b[0mset_alpha\u001b[0m\u001b[0;34m(\u001b[0m\u001b[0malpha\u001b[0m\u001b[0;34m)\u001b[0m\u001b[0;34m\u001b[0m\u001b[0m\n\u001b[1;32m   7302\u001b[0m         \u001b[0mself\u001b[0m\u001b[0;34m.\u001b[0m\u001b[0m_set_artist_props\u001b[0m\u001b[0;34m(\u001b[0m\u001b[0mim\u001b[0m\u001b[0;34m)\u001b[0m\u001b[0;34m\u001b[0m\u001b[0m\n",
        "\u001b[0;32m/Users/zipfianstudent/anaconda/lib/python2.7/site-packages/matplotlib/image.pyc\u001b[0m in \u001b[0;36mset_data\u001b[0;34m(self, A)\u001b[0m\n\u001b[1;32m    427\u001b[0m         if (self._A.ndim not in (2, 3) or\n\u001b[1;32m    428\u001b[0m             (self._A.ndim == 3 and self._A.shape[-1] not in (3, 4))):\n\u001b[0;32m--> 429\u001b[0;31m             \u001b[0;32mraise\u001b[0m \u001b[0mTypeError\u001b[0m\u001b[0;34m(\u001b[0m\u001b[0;34m\"Invalid dimensions for image data\"\u001b[0m\u001b[0;34m)\u001b[0m\u001b[0;34m\u001b[0m\u001b[0m\n\u001b[0m\u001b[1;32m    430\u001b[0m \u001b[0;34m\u001b[0m\u001b[0m\n\u001b[1;32m    431\u001b[0m         \u001b[0mself\u001b[0m\u001b[0;34m.\u001b[0m\u001b[0m_imcache\u001b[0m \u001b[0;34m=\u001b[0m \u001b[0mNone\u001b[0m\u001b[0;34m\u001b[0m\u001b[0m\n",
        "\u001b[0;31mTypeError\u001b[0m: Invalid dimensions for image data"
       ]
      },
      {
       "output_type": "stream",
       "stream": "stdout",
       "text": [
        "[ 0.01597493  0.02595105  0.04067971  0.06156599  0.09001427  0.12723178\n",
        "  0.17399837  0.23044276  0.29587668  0.36873547  0.44665709  0.52670149\n",
        "  0.60567856  0.68052447  0.74865348  0.80821874  0.85823958  0.89858607\n",
        "  0.9298438   0.9531036   0.96972819  0.98114101  0.98866644  0.99343257\n",
        "  0.99633189  0.99802594  0.99897664  0.99948911  0.99975444  0.99988639\n",
        "  0.99994941]\n"
       ]
      },
      {
       "metadata": {},
       "output_type": "display_data",
       "png": "[encoded data removed]",
       "text": [
        "<matplotlib.figure.Figure at 0x10ce75b90>"
       ]
      }
     ],
     "prompt_number": 24
    },
    {
     "cell_type": "code",
     "collapsed": false,
     "input": [
      "test_a = np.array([[1, 2], [3, 4]])"
     ],
     "language": "python",
     "metadata": {},
     "outputs": [],
     "prompt_number": 26
    },
    {
     "cell_type": "code",
     "collapsed": false,
     "input": [
      "print test_a[0][1]"
     ],
     "language": "python",
     "metadata": {},
     "outputs": [
      {
       "output_type": "stream",
       "stream": "stdout",
       "text": [
        "2\n"
       ]
      }
     ],
     "prompt_number": 29
    },
    {
     "cell_type": "code",
     "collapsed": false,
     "input": [
      "def rank_ks():\n",
      "    chest_pain = c_array[:,2]\n",
      "    # condense to one measure to evaluate\n",
      "    results = {}\n",
      "    \n",
      "    # create a list of means and std dev to loop through and generate norms\n",
      "    # then feed those into KS for multiplve p-vals\n",
      "    for idx, data in enumerate(cleveland):\n",
      "        count, bin, ignore = hist(data, 30, color=\"red\", normed=True)\n",
      "        \n",
      "        norm_cdf = st.norm.cdf(bin, mean(data), std(data))\n",
      "        #norm_cdf = st.norm.cdf(bin, range(1,5), std(data))\n",
      "        data_cdf = cumsum(count) * (bin[1] - bin[0])\n",
      "        print data_cdf\n",
      "        # low ks_stat or high p_val cannot reject hypothesis the distribution of hte two samples are the same\n",
      "        ks_stat, p_val = st.ks_2samp(data_cdf, norm_cdf) \n",
      "\n",
      "        # Create a numpy array that stors p_val at the corresponding mean and standard deviation\n",
      "        results[labels[idx]] = (ks_stat, p_val)\n",
      "#    print sorted(results.iteritems(), key=lambda x: x[1])\n",
      "    pvals, dvals= [], []\n",
      "    for k,v in results.iteritems():\n",
      "        pvals.append(v[1])\n",
      "        dvals.append(v[0])\n",
      "    \n",
      "    #plt.imshow([pvals, dvals])\n",
      "    plt.show()\n",
      "        \n",
      "rank_ks()\n",
      "\n",
      "\n",
      "# Get the pdf with est mean and sigma and pass into cdf for data\n",
      "    # create range of mean and std and feed each one with other cdf into zs\n",
      "    # capture in array\n",
      "    # feed to heatmap\n",
      "    \n",
      "    # create a list of means and std dev to loop through and generate norms\n",
      "    # then feed those into KS for multiplve p-vals\n",
      "#     for idx, data in enumerate(cleveland):\n",
      "        \n",
      "#         #norm_cdf = st.norm.cdf(bin, range(1,5), std(data))\n",
      "        \n",
      "#         # low ks_stat or high p_val cannot reject hypothesis the distribution of hte two samples are the same\n",
      "        \n",
      "        \n",
      "#         # Create a numpy array that stors p_val at the corresponding mean and standard deviation\n",
      "#         results[labels[idx]] = (ks_stat, p_val)\n",
      "# #    print sorted(results.iteritems(), key=lambda x: x[1])\n",
      "#     pvals, dvals= [], []\n",
      "#     for k,v in results.iteritems():\n",
      "#         pvals.append(v[1])\n",
      "#         dvals.append(v[0])\n",
      "#     print results\n",
      "#"
     ],
     "language": "python",
     "metadata": {},
     "outputs": [
      {
       "ename": "NameError",
       "evalue": "name 'ks' is not defined",
       "output_type": "pyerr",
       "traceback": [
        "\u001b[0;31m---------------------------------------------------------------------------\u001b[0m\n\u001b[0;31mNameError\u001b[0m                                 Traceback (most recent call last)",
        "\u001b[0;32m<ipython-input-20-0194845de588>\u001b[0m in \u001b[0;36m<module>\u001b[0;34m()\u001b[0m\n\u001b[0;32m----> 1\u001b[0;31m \u001b[0mks\u001b[0m\u001b[0;34m\u001b[0m\u001b[0m\n\u001b[0m",
        "\u001b[0;31mNameError\u001b[0m: name 'ks' is not defined"
       ]
      }
     ],
     "prompt_number": 20
    },
    {
     "cell_type": "code",
     "collapsed": false,
     "input": [
      "def rank_ks():\n",
      "    \n",
      "    c_chest_pain = c_array[:,2]\n",
      "    #results = np.array() # check syntax\n",
      "    \n",
      "    real_count, real_bin, real_ignore = hist(c_chest_pain, 30, color=\"red\")\n",
      "    \n",
      "    real_mean = mean(c_chest_pain)\n",
      "    real_std = std(c_chest_pain)\n",
      "    real_pdf = st.norm.pdf(real_bin, real_mean, real_std)\n",
      "    #     real_cdf = cumsum(real_count) * (bin[1] - bin[0])\n",
      "    real_cdf = st.norm.cdf(real_bin, mean(c_chest_pain), std(c_chest_pain))\n",
      "\n",
      "    # Challenge using arange is may not be equally spaced on floats\n",
      "    model_means = np.arange(real_mean-2, real_mean+2, .1)\n",
      "    model_stds = np.arange(real_std-.9, real_std+.9, .01)\n",
      "\n",
      "    # Creating an empty array to store our p-values at different modeled means and stds.\n",
      "    results = np.zeros(shape=(len(model_means), len(model_stds))) # check syntax\n",
      "\n",
      "    #Running the cdf with our self-generated model_means, and model_stds,\n",
      "    # Then, doing the ks_test to find their d,v vals against our real data\n",
      "    # returning a matrix with x = model_means[i], y = model_stds[j], p_val[i][j]\n",
      "    for i in model_means:\n",
      "        for j in model_stds:        \n",
      "            model_cdf = st.norm.cdf(real_bin, i, j)\n",
      "            d_val, p_val = st.ks_2samp(real_cdf, model_cdf)\n",
      "            results[i, j] = p_val\n",
      "    print results\n",
      "\n",
      "         #plt.imshow([pvals, dvals])\n",
      "#     plt.show()\n",
      "        \n",
      "rank_ks()"
     ],
     "language": "python",
     "metadata": {},
     "outputs": [
      {
       "output_type": "stream",
       "stream": "stdout",
       "text": [
        "[[  0.00000000e+00   0.00000000e+00   0.00000000e+00 ...,   0.00000000e+00\n",
        "    0.00000000e+00   0.00000000e+00]\n",
        " [  5.65128742e-03   8.75568130e-05   0.00000000e+00 ...,   0.00000000e+00\n",
        "    0.00000000e+00   0.00000000e+00]\n",
        " [  9.97635957e-01   1.34648311e-02   0.00000000e+00 ...,   0.00000000e+00\n",
        "    0.00000000e+00   0.00000000e+00]\n",
        " ..., \n",
        " [  0.00000000e+00   0.00000000e+00   0.00000000e+00 ...,   0.00000000e+00\n",
        "    0.00000000e+00   0.00000000e+00]\n",
        " [  0.00000000e+00   0.00000000e+00   0.00000000e+00 ...,   0.00000000e+00\n",
        "    0.00000000e+00   0.00000000e+00]\n",
        " [  0.00000000e+00   0.00000000e+00   0.00000000e+00 ...,   0.00000000e+00\n",
        "    0.00000000e+00   0.00000000e+00]]\n"
       ]
      },
      {
       "metadata": {},
       "output_type": "display_data",
       "png": "[encoded data removed]",
       "text": [
        "<matplotlib.figure.Figure at 0x10ce754d0>"
       ]
      }
     ],
     "prompt_number": 76
    },
    {
     "cell_type": "code",
     "collapsed": false,
     "input": [
      "print len(model_stds)"
     ],
     "language": "python",
     "metadata": {},
     "outputs": [
      {
       "ename": "NameError",
       "evalue": "name 'model_stds' is not defined",
       "output_type": "pyerr",
       "traceback": [
        "\u001b[0;31m---------------------------------------------------------------------------\u001b[0m\n\u001b[0;31mNameError\u001b[0m                                 Traceback (most recent call last)",
        "\u001b[0;32m<ipython-input-74-e414c473c398>\u001b[0m in \u001b[0;36m<module>\u001b[0;34m()\u001b[0m\n\u001b[0;32m----> 1\u001b[0;31m \u001b[0;32mprint\u001b[0m \u001b[0mlen\u001b[0m\u001b[0;34m(\u001b[0m\u001b[0mmodel_stds\u001b[0m\u001b[0;34m)\u001b[0m\u001b[0;34m\u001b[0m\u001b[0m\n\u001b[0m",
        "\u001b[0;31mNameError\u001b[0m: name 'model_stds' is not defined"
       ]
      }
     ],
     "prompt_number": 74
    },
    {
     "cell_type": "code",
     "collapsed": false,
     "input": [],
     "language": "python",
     "metadata": {},
     "outputs": []
    }
   ],
   "metadata": {}
  }
 ]
}